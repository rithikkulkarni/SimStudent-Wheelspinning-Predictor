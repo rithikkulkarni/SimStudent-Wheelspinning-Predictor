{
  "nbformat": 4,
  "nbformat_minor": 0,
  "metadata": {
    "colab": {
      "provenance": [],
      "include_colab_link": true
    },
    "kernelspec": {
      "name": "python3",
      "display_name": "Python 3"
    },
    "language_info": {
      "name": "python"
    }
  },
  "cells": [
    {
      "cell_type": "markdown",
      "metadata": {
        "id": "view-in-github",
        "colab_type": "text"
      },
      "source": [
        "<a href=\"https://colab.research.google.com/github/rithikkulkarni/simstudent-data-preprocessing/blob/main/data_preprocessing.ipynb\" target=\"_parent\"><img src=\"https://colab.research.google.com/assets/colab-badge.svg\" alt=\"Open In Colab\"/></a>"
      ]
    },
    {
      "cell_type": "code",
      "execution_count": 26,
      "metadata": {
        "id": "ZQk8dKlqDJ9x",
        "colab": {
          "base_uri": "https://localhost:8080/"
        },
        "outputId": "7a8e47da-406f-48c6-ae03-b01cdae06ecf"
      },
      "outputs": [
        {
          "output_type": "stream",
          "name": "stdout",
          "text": [
            "(140943, 62)\n"
          ]
        }
      ],
      "source": [
        "import pandas as pd\n",
        "\n",
        "file_path = 'https://github.com/rithikkulkarni/simstudent-data-preprocessing/raw/main/Algebra2017May(YesPrep)-APLUS-SUBSET.xlsx'\n",
        "\n",
        "df = pd.read_excel(file_path, sheet_name=\"Algebra2017May(YesPrep)-APLUS\", engine=\"openpyxl\")\n",
        "print(df.shape)"
      ]
    },
    {
      "cell_type": "code",
      "source": [
        "unique_students = df['Anon Student Id'].nunique()\n",
        "print(f'# of Unique Students: {unique_students}')"
      ],
      "metadata": {
        "colab": {
          "base_uri": "https://localhost:8080/"
        },
        "id": "g9LZZVKdHJlE",
        "outputId": "7179efe7-fe2c-4f3e-9ae2-1be7ddb4e80f"
      },
      "execution_count": 27,
      "outputs": [
        {
          "output_type": "stream",
          "name": "stdout",
          "text": [
            "# of Unique Students: 266\n"
          ]
        }
      ]
    },
    {
      "cell_type": "code",
      "source": [
        "df.info()"
      ],
      "metadata": {
        "colab": {
          "base_uri": "https://localhost:8080/"
        },
        "id": "EKf1m9RbQF05",
        "outputId": "1ad4d2df-5b48-4b37-9b6d-a9e6f67a8b10"
      },
      "execution_count": 28,
      "outputs": [
        {
          "output_type": "stream",
          "name": "stdout",
          "text": [
            "<class 'pandas.core.frame.DataFrame'>\n",
            "RangeIndex: 140943 entries, 0 to 140942\n",
            "Data columns (total 62 columns):\n",
            " #   Column                       Non-Null Count   Dtype         \n",
            "---  ------                       --------------   -----         \n",
            " 0   Row                          140943 non-null  int64         \n",
            " 1   Sample Name                  140943 non-null  object        \n",
            " 2   Transaction Id               140943 non-null  object        \n",
            " 3   Anon Student Id              140943 non-null  object        \n",
            " 4   Session Id                   140943 non-null  object        \n",
            " 5   Time                         140943 non-null  datetime64[ns]\n",
            " 6   Time Zone                    140943 non-null  object        \n",
            " 7   Duration (sec)               140943 non-null  object        \n",
            " 8   Student Response Type        140943 non-null  object        \n",
            " 9   Student Response Subtype     63907 non-null   object        \n",
            " 10  Tutor Response Type          136474 non-null  object        \n",
            " 11  Tutor Response Subtype       62173 non-null   object        \n",
            " 12  Level (Unit)                 140943 non-null  object        \n",
            " 13  Problem Name                 140942 non-null  object        \n",
            " 14  Problem View                 140943 non-null  int64         \n",
            " 15  Problem Start Time           140943 non-null  datetime64[ns]\n",
            " 16  Step Name                    136474 non-null  object        \n",
            " 17  Attempt At Step              136474 non-null  float64       \n",
            " 18  Is Last Attempt              136474 non-null  float64       \n",
            " 19  Outcome                      136474 non-null  object        \n",
            " 20  Selection                    68958 non-null   object        \n",
            " 21  Action                       68958 non-null   object        \n",
            " 22  Input                        68954 non-null   object        \n",
            " 23  Feedback Text                20420 non-null   object        \n",
            " 24  Feedback Classification      0 non-null       float64       \n",
            " 25  Help Level                   5806 non-null    float64       \n",
            " 26  Total Num Hints              0 non-null       float64       \n",
            " 27  Condition Name               140943 non-null  object        \n",
            " 28  Condition Type               0 non-null       float64       \n",
            " 29  KC (Problem)                 86862 non-null   object        \n",
            " 30  KC Category (Problem)        86862 non-null   object        \n",
            " 31  KC (Step)                    53673 non-null   object        \n",
            " 32  KC Category (Step)           53673 non-null   object        \n",
            " 33  KC (ActualSkill)             66297 non-null   object        \n",
            " 34  KC Category (ActualSkill)    66293 non-null   object        \n",
            " 35  KC (Default)                 62173 non-null   object        \n",
            " 36  KC Category (Default)        62172 non-null   object        \n",
            " 37  KC (ProblemSubmit)           915 non-null     object        \n",
            " 38  KC Category (ProblemSubmit)  915 non-null     object        \n",
            " 39  KC (Single-KC)               136474 non-null  object        \n",
            " 40  KC Category (Single-KC)      0 non-null       float64       \n",
            " 41  KC (Unique-step)             97186 non-null   object        \n",
            " 42  KC Category (Unique-step)    0 non-null       float64       \n",
            " 43  School                       140943 non-null  object        \n",
            " 44  Class                        140943 non-null  object        \n",
            " 45  CF (ACTION)                  138286 non-null  object        \n",
            " 46  CF (ACTION_TYPE)             138286 non-null  object        \n",
            " 47  CF (DURATION)                23458 non-null   float64       \n",
            " 48  CF (HINT_FOLLOWED)           138286 non-null  object        \n",
            " 49  CF (HINT_SUBJECT)            138285 non-null  object        \n",
            " 50  CF (HINT_TYPE)               138286 non-null  object        \n",
            " 51  CF (INFO)                    138286 non-null  object        \n",
            " 52  CF (RESULT)                  107955 non-null  object        \n",
            " 53  CF (STATUS)                  138286 non-null  object        \n",
            " 54  CF (STUDENT_LOG_COUNT)       138286 non-null  float64       \n",
            " 55  CF (USERID)                  138286 non-null  object        \n",
            " 56  CF (date)                    138286 non-null  object        \n",
            " 57  Participation Day Key        138286 non-null  object        \n",
            " 58  Participation Day            137985 non-null  float64       \n",
            " 59  CF (tool_event_time)         140943 non-null  object        \n",
            " 60  Unnamed: 60                  0 non-null       float64       \n",
            " 61  Unnamed: 61                  0 non-null       float64       \n",
            "dtypes: datetime64[ns](2), float64(13), int64(2), object(45)\n",
            "memory usage: 66.7+ MB\n"
          ]
        }
      ]
    },
    {
      "cell_type": "code",
      "source": [],
      "metadata": {
        "id": "01-ecZ4XQFro"
      },
      "execution_count": null,
      "outputs": []
    },
    {
      "cell_type": "code",
      "source": [
        "### COLUMNS TO REMOVE\n",
        "# ------------------------------------\n",
        "# 'Row\"\n",
        "# 'Sample Name'\n",
        "# 'Transaction Id'\n",
        "\n",
        "\n",
        "\n",
        "\n",
        "### COLUMNS TO KEEP\n",
        "# ------------------------------------\n",
        "# 'Anon Student Id'\n",
        "# 'Session Id'"
      ],
      "metadata": {
        "id": "7YzbjNDiI62K"
      },
      "execution_count": null,
      "outputs": []
    }
  ]
}

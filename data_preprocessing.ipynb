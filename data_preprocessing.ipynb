{
  "nbformat": 4,
  "nbformat_minor": 0,
  "metadata": {
    "colab": {
      "provenance": [],
      "include_colab_link": true
    },
    "kernelspec": {
      "name": "python3",
      "display_name": "Python 3"
    },
    "language_info": {
      "name": "python"
    }
  },
  "cells": [
    {
      "cell_type": "markdown",
      "metadata": {
        "id": "view-in-github",
        "colab_type": "text"
      },
      "source": [
        "<a href=\"https://colab.research.google.com/github/rithikkulkarni/simstudent-data-preprocessing/blob/main/data_preprocessing.ipynb\" target=\"_parent\"><img src=\"https://colab.research.google.com/assets/colab-badge.svg\" alt=\"Open In Colab\"/></a>"
      ]
    },
    {
      "cell_type": "code",
      "execution_count": null,
      "metadata": {
        "id": "ZQk8dKlqDJ9x",
        "colab": {
          "base_uri": "https://localhost:8080/"
        },
        "outputId": "3f3660db-532e-4005-ffbd-738372843381"
      },
      "outputs": [
        {
          "output_type": "stream",
          "name": "stdout",
          "text": [
            "(140943, 62)\n"
          ]
        }
      ],
      "source": [
        "import pandas as pd\n",
        "\n",
        "file_path = 'https://github.com/rithikkulkarni/simstudent-data-preprocessing/raw/main/Algebra2017May(YesPrep)-APLUS-SUBSET.xlsx'\n",
        "\n",
        "df = pd.read_excel(file_path, sheet_name=\"Algebra2017May(YesPrep)-APLUS\", engine=\"openpyxl\")\n",
        "print(df.shape)"
      ]
    },
    {
      "cell_type": "code",
      "source": [
        "unique_students = df['Anon Student Id'].nunique()\n",
        "print(f'# of Unique Students: {unique_students}')"
      ],
      "metadata": {
        "colab": {
          "base_uri": "https://localhost:8080/"
        },
        "id": "g9LZZVKdHJlE",
        "outputId": "8dff0163-e5ff-4b35-b27e-fcef62e6e9fa"
      },
      "execution_count": null,
      "outputs": [
        {
          "output_type": "stream",
          "name": "stdout",
          "text": [
            "# of Unique Students: 266\n"
          ]
        }
      ]
    },
    {
      "cell_type": "code",
      "source": [
        "df.info()"
      ],
      "metadata": {
        "colab": {
          "base_uri": "https://localhost:8080/"
        },
        "id": "EKf1m9RbQF05",
        "outputId": "a1614dce-b991-47bb-c2a7-d0f72b421060"
      },
      "execution_count": null,
      "outputs": [
        {
          "output_type": "stream",
          "name": "stdout",
          "text": [
            "<class 'pandas.core.frame.DataFrame'>\n",
            "RangeIndex: 140943 entries, 0 to 140942\n",
            "Data columns (total 62 columns):\n",
            " #   Column                       Non-Null Count   Dtype         \n",
            "---  ------                       --------------   -----         \n",
            " 0   Row                          140943 non-null  int64         \n",
            " 1   Sample Name                  140943 non-null  object        \n",
            " 2   Transaction Id               140943 non-null  object        \n",
            " 3   Anon Student Id              140943 non-null  object        \n",
            " 4   Session Id                   140943 non-null  object        \n",
            " 5   Time                         140943 non-null  datetime64[ns]\n",
            " 6   Time Zone                    140943 non-null  object        \n",
            " 7   Duration (sec)               140943 non-null  object        \n",
            " 8   Student Response Type        140943 non-null  object        \n",
            " 9   Student Response Subtype     63907 non-null   object        \n",
            " 10  Tutor Response Type          136474 non-null  object        \n",
            " 11  Tutor Response Subtype       62173 non-null   object        \n",
            " 12  Level (Unit)                 140943 non-null  object        \n",
            " 13  Problem Name                 140942 non-null  object        \n",
            " 14  Problem View                 140943 non-null  int64         \n",
            " 15  Problem Start Time           140943 non-null  datetime64[ns]\n",
            " 16  Step Name                    136474 non-null  object        \n",
            " 17  Attempt At Step              136474 non-null  float64       \n",
            " 18  Is Last Attempt              136474 non-null  float64       \n",
            " 19  Outcome                      136474 non-null  object        \n",
            " 20  Selection                    68958 non-null   object        \n",
            " 21  Action                       68958 non-null   object        \n",
            " 22  Input                        68954 non-null   object        \n",
            " 23  Feedback Text                20420 non-null   object        \n",
            " 24  Feedback Classification      0 non-null       float64       \n",
            " 25  Help Level                   5806 non-null    float64       \n",
            " 26  Total Num Hints              0 non-null       float64       \n",
            " 27  Condition Name               140943 non-null  object        \n",
            " 28  Condition Type               0 non-null       float64       \n",
            " 29  KC (Problem)                 86862 non-null   object        \n",
            " 30  KC Category (Problem)        86862 non-null   object        \n",
            " 31  KC (Step)                    53673 non-null   object        \n",
            " 32  KC Category (Step)           53673 non-null   object        \n",
            " 33  KC (ActualSkill)             66297 non-null   object        \n",
            " 34  KC Category (ActualSkill)    66293 non-null   object        \n",
            " 35  KC (Default)                 62173 non-null   object        \n",
            " 36  KC Category (Default)        62172 non-null   object        \n",
            " 37  KC (ProblemSubmit)           915 non-null     object        \n",
            " 38  KC Category (ProblemSubmit)  915 non-null     object        \n",
            " 39  KC (Single-KC)               136474 non-null  object        \n",
            " 40  KC Category (Single-KC)      0 non-null       float64       \n",
            " 41  KC (Unique-step)             97186 non-null   object        \n",
            " 42  KC Category (Unique-step)    0 non-null       float64       \n",
            " 43  School                       140943 non-null  object        \n",
            " 44  Class                        140943 non-null  object        \n",
            " 45  CF (ACTION)                  138286 non-null  object        \n",
            " 46  CF (ACTION_TYPE)             138286 non-null  object        \n",
            " 47  CF (DURATION)                23458 non-null   float64       \n",
            " 48  CF (HINT_FOLLOWED)           138286 non-null  object        \n",
            " 49  CF (HINT_SUBJECT)            138285 non-null  object        \n",
            " 50  CF (HINT_TYPE)               138286 non-null  object        \n",
            " 51  CF (INFO)                    138286 non-null  object        \n",
            " 52  CF (RESULT)                  107955 non-null  object        \n",
            " 53  CF (STATUS)                  138286 non-null  object        \n",
            " 54  CF (STUDENT_LOG_COUNT)       138286 non-null  float64       \n",
            " 55  CF (USERID)                  138286 non-null  object        \n",
            " 56  CF (date)                    138286 non-null  object        \n",
            " 57  Participation Day Key        138286 non-null  object        \n",
            " 58  Participation Day            137985 non-null  float64       \n",
            " 59  CF (tool_event_time)         140943 non-null  object        \n",
            " 60  Unnamed: 60                  0 non-null       float64       \n",
            " 61  Unnamed: 61                  0 non-null       float64       \n",
            "dtypes: datetime64[ns](2), float64(13), int64(2), object(45)\n",
            "memory usage: 66.7+ MB\n"
          ]
        }
      ]
    },
    {
      "cell_type": "code",
      "source": [
        "### REMOVAL OF UNWANTED COLUMNS (RUN ONLY ONCE)\n",
        "df = df.drop([\n",
        "  'Feedback Classification',\n",
        "  'Total Num Hints',\n",
        "  'Condition Type',\n",
        "  'KC Category (Single-KC)',\n",
        "  'KC Category (Unique-step)',\n",
        "  'Unnamed: 60',\n",
        "  'Unnamed: 61',\n",
        "  'Row',\n",
        "  'Sample Name',\n",
        "  'Transaction Id',\n",
        "  'School',\n",
        "  'Time Zone',\n",
        "  'Time',\n",
        "  'Tutor Response Type',\n",
        "  'Tutor Response Subtype',\n",
        "  'Level (Unit)',\n",
        "  'Problem Name',\n",
        "  'Step Name',\n",
        "  'Selection',\n",
        "  'Action',\n",
        "  'KC (Problem)',\n",
        "  'KC (Step)',\n",
        "  'KC Category (Step)',\n",
        "  'KC (ActualSkill)',\n",
        "  'KC Category (ActualSkill)',\n",
        "  'KC (Default)',\n",
        "  'KC Category (Default)',\n",
        "  'KC (ProblemSubmit)',\n",
        "  'KC Category (ProblemSubmit)',\n",
        "  'KC (Single-KC)',\n",
        "  'KC (Unique-step)',\n",
        "  'Class',\n",
        "  'CF (HINT_FOLLOWED)',\n",
        "  'CF (HINT_SUBJECT)',\n",
        "  'CF (HINT_TYPE)',\n",
        "  'CF (INFO)',\n",
        "  'CF (RESULT)',\n",
        "  'CF (USERID)',\n",
        "  'CF (STUDENT_LOG_COUNT)',\n",
        "  'CF (date)',\n",
        "  'Participation Day Key',\n",
        "  'Student Response Subtype',\n",
        "  'Problem Start Time'\n",
        "], axis=1)"
      ],
      "metadata": {
        "id": "x4weE-WvqOCY"
      },
      "execution_count": null,
      "outputs": []
    },
    {
      "cell_type": "code",
      "source": [
        "# Renaming columns in preparation for dataset export\n",
        "df = df.rename(columns={\n",
        "  'Anon Student Id': 'student_id',\n",
        "  'Session Id': 'session_id',\n",
        "  'Duration (sec)': 'duration_sec',\n",
        "  'Student Response Type': 'student_response_type',\n",
        "  'Problem View': 'problem_view',\n",
        "  'Attempt At Step': 'attempt_at_step',\n",
        "  'Is Last Attempt': 'is_last_attempt',\n",
        "  'Outcome': 'outcome',\n",
        "  'Input': 'input',\n",
        "  'Feedback Text': 'feedback_text',\n",
        "  'Help Level': 'help_level',\n",
        "  'Condition Name': 'condition_name',\n",
        "  'KC Category (Problem)': 'problem_category',\n",
        "  'CF (ACTION)': 'action_explanation',\n",
        "  'CF (ACTION_TYPE)': 'action',\n",
        "  'CF (DURATION)': 'duration',\n",
        "  'CF (STATUS)': 'status',\n",
        "  'Participation Day': 'participation_day',\n",
        "  'CF (tool_event_time)': 'tool_event_time'\n",
        "})"
      ],
      "metadata": {
        "id": "V43hSfzfzm2L"
      },
      "execution_count": null,
      "outputs": []
    },
    {
      "cell_type": "code",
      "source": [
        "# Get a visual of the amount of unique values in each column\n",
        "\n",
        "for col in df.columns:\n",
        "  print(f'{col}: {df[col].nunique()}')"
      ],
      "metadata": {
        "colab": {
          "base_uri": "https://localhost:8080/"
        },
        "id": "cDRoIrOXq9C1",
        "outputId": "70d4072a-1442-47ee-d086-3771a0bde432"
      },
      "execution_count": null,
      "outputs": [
        {
          "output_type": "stream",
          "name": "stdout",
          "text": [
            "student_id: 266\n",
            "session_id: 856\n",
            "duration_sec: 1100\n",
            "student_response_type: 2\n",
            "problem_view: 25\n",
            "attempt_at_step: 385\n",
            "is_last_attempt: 2\n",
            "outcome: 4\n",
            "input: 1944\n",
            "feedback_text: 8253\n",
            "help_level: 4\n",
            "condition_name: 2\n",
            "problem_category: 8\n",
            "action_explanation: 58\n",
            "action: 12\n",
            "duration: 2242\n",
            "status: 3\n",
            "participation_day: 4\n",
            "tool_event_time: 140041\n"
          ]
        }
      ]
    },
    {
      "cell_type": "code",
      "source": [
        "df.info()"
      ],
      "metadata": {
        "colab": {
          "base_uri": "https://localhost:8080/"
        },
        "id": "qt87kuz609aA",
        "outputId": "5782b2ee-3a9b-4b2e-93ff-f8d1bd6907c5"
      },
      "execution_count": null,
      "outputs": [
        {
          "output_type": "stream",
          "name": "stdout",
          "text": [
            "<class 'pandas.core.frame.DataFrame'>\n",
            "RangeIndex: 140943 entries, 0 to 140942\n",
            "Data columns (total 19 columns):\n",
            " #   Column                 Non-Null Count   Dtype  \n",
            "---  ------                 --------------   -----  \n",
            " 0   student_id             140943 non-null  object \n",
            " 1   session_id             140943 non-null  object \n",
            " 2   duration_sec           140943 non-null  object \n",
            " 3   student_response_type  140943 non-null  object \n",
            " 4   problem_view           140943 non-null  int64  \n",
            " 5   attempt_at_step        136474 non-null  float64\n",
            " 6   is_last_attempt        136474 non-null  float64\n",
            " 7   outcome                136474 non-null  object \n",
            " 8   input                  68954 non-null   object \n",
            " 9   feedback_text          20420 non-null   object \n",
            " 10  help_level             5806 non-null    float64\n",
            " 11  condition_name         140943 non-null  object \n",
            " 12  problem_category       86862 non-null   object \n",
            " 13  action_explanation     138286 non-null  object \n",
            " 14  action                 138286 non-null  object \n",
            " 15  duration               23458 non-null   float64\n",
            " 16  status                 138286 non-null  object \n",
            " 17  participation_day      137985 non-null  float64\n",
            " 18  tool_event_time        140943 non-null  object \n",
            "dtypes: float64(5), int64(1), object(13)\n",
            "memory usage: 20.4+ MB\n"
          ]
        }
      ]
    },
    {
      "cell_type": "code",
      "source": [
        "df.to_excel('SimStudent_StudyVII_May2017_Preprocessed_Subset.xlsx', index=False)"
      ],
      "metadata": {
        "id": "abD56SyQ2q6J"
      },
      "execution_count": null,
      "outputs": []
    }
  ]
}